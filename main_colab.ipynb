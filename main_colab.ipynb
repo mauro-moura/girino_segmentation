{
  "nbformat": 4,
  "nbformat_minor": 0,
  "metadata": {
    "colab": {
      "name": "main_colab.ipynb",
      "provenance": [],
      "collapsed_sections": []
    },
    "kernelspec": {
      "name": "python3",
      "display_name": "Python 3"
    },
    "accelerator": "GPU"
  },
  "cells": [
    {
      "cell_type": "markdown",
      "metadata": {
        "id": "lQt0Ra7377ON",
        "colab_type": "text"
      },
      "source": [
        "[![Open In Colab](https://colab.research.google.com/assets/colab-badge.svg)](https://colab.research.google.com/github/mauro-moura/girino_segmentation/blob/master/main_colab.ipynb)"
      ]
    },
    {
      "cell_type": "code",
      "metadata": {
        "id": "lJysBpWy8O2A",
        "colab_type": "code",
        "colab": {
          "base_uri": "https://localhost:8080/",
          "height": 136
        },
        "outputId": "92630d36-c156-4ce9-8b7a-6d66ecdba180"
      },
      "source": [
        "# Coloque seu usuário e senha do github\n",
        "from getpass import getpass\n",
        "u = str(input('Insira seu usuário: \\n'))\n",
        "p = str(getpass('Insira sua senha: \\n'))\n",
        "!git clone https://$u:$p@github.com/mauro-moura/girino_segmentation.git"
      ],
      "execution_count": 17,
      "outputs": [
        {
          "output_type": "stream",
          "text": [
            "Cloning into 'girino_segmentation'...\n",
            "remote: Enumerating objects: 937, done.\u001b[K\n",
            "remote: Counting objects: 100% (937/937), done.\u001b[K\n",
            "remote: Compressing objects: 100% (881/881), done.\u001b[K\n",
            "remote: Total 937 (delta 71), reused 912 (delta 50), pack-reused 0\u001b[K\n",
            "Receiving objects: 100% (937/937), 38.73 MiB | 20.30 MiB/s, done.\n",
            "Resolving deltas: 100% (71/71), done.\n"
          ],
          "name": "stdout"
        }
      ]
    },
    {
      "cell_type": "code",
      "metadata": {
        "id": "LzyjoGerCJjg",
        "colab_type": "code",
        "colab": {
          "base_uri": "https://localhost:8080/",
          "height": 34
        },
        "outputId": "12a23d67-a65c-480f-b25b-e7a65eb707e5"
      },
      "source": [
        "%cd girino_segmentation"
      ],
      "execution_count": 24,
      "outputs": [
        {
          "output_type": "stream",
          "text": [
            "/content/girino_segmentation\n"
          ],
          "name": "stdout"
        }
      ]
    },
    {
      "cell_type": "code",
      "metadata": {
        "id": "N6XFcu-7Cijz",
        "colab_type": "code",
        "colab": {
          "base_uri": "https://localhost:8080/",
          "height": 34
        },
        "outputId": "8ddb2d48-60d3-4b19-d8ce-073b7ee0009a"
      },
      "source": [
        "%tensorflow_version 1.x\n",
        "!pip install --upgrade imagecodecs"
      ],
      "execution_count": 18,
      "outputs": [
        {
          "output_type": "stream",
          "text": [
            "TensorFlow 1.x selected.\n"
          ],
          "name": "stdout"
        }
      ]
    },
    {
      "cell_type": "code",
      "metadata": {
        "id": "qlO9ZSIA-6vQ",
        "colab_type": "code",
        "colab": {}
      },
      "source": [
        "!python main.py"
      ],
      "execution_count": null,
      "outputs": []
    },
    {
      "cell_type": "code",
      "execution_count": null,
      "metadata": {},
      "outputs": [],
      "source": [
        "!zip -r outputs.zip outputs/"
      ]
    },
    {
      "cell_type": "code",
      "execution_count": null,
      "metadata": {},
      "outputs": [],
      "source": [
        "from google.colab import files\n",
        "files.download('outputs.zip')"
      ]
    }
  ]
}